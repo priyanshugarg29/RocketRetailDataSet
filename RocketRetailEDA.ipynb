{
  "nbformat": 4,
  "nbformat_minor": 0,
  "metadata": {
    "colab": {
      "provenance": [],
      "gpuType": "V28"
    },
    "kernelspec": {
      "name": "python3",
      "display_name": "Python 3"
    },
    "language_info": {
      "name": "python"
    },
    "accelerator": "TPU"
  },
  "cells": [
    {
      "cell_type": "markdown",
      "source": [
        "# EXPLORATORY DATA ANALYSIS OF ROCKET RETAIL DATASET"
      ],
      "metadata": {
        "id": "SyRyf7qPg96f"
      }
    },
    {
      "cell_type": "markdown",
      "source": [
        "This notebook serves as a foundational step in understanding the Retail Rocket ecommerce dataset, which forms the basis for the customer segmentation methodology developed in this research. The dataset captures real-world user interactions on an online retail platform and holds rich behavioural signals that, when explored thoughtfully, can reveal underlying patterns in customer journeys.\n",
        "\n",
        "The analysis presented here will aim to go beyond surface-level statistics, focusing instead on uncovering the structure and integrity of the dataset, evaluating its completeness, and preparing the ground for more advanced behavioural modelling. This process will involve inspecting missing values, analysing event types and user activity levels, and understanding the variability of item properties and category hierarchies over time.\n",
        "\n",
        "The outputs of this notebook—both in terms of data insights and visual artefacts—will be saved and later incorporated into an interactive Streamlit dashboard, making the data exploration reproducible, transparent, and accessible to wider stakeholders."
      ],
      "metadata": {
        "id": "oMPXR3L7iYlj"
      }
    },
    {
      "cell_type": "markdown",
      "source": [
        "## Importing Essential Libraries"
      ],
      "metadata": {
        "id": "ypRu3r5kVQK8"
      }
    },
    {
      "cell_type": "code",
      "source": [
        "import os\n",
        "import pandas as pd\n",
        "import matplotlib.pyplot as plt\n",
        "import matplotlib.ticker as mtick\n",
        "import numpy as np"
      ],
      "metadata": {
        "id": "5-u-xKJ3VXAG"
      },
      "execution_count": 1,
      "outputs": []
    },
    {
      "cell_type": "markdown",
      "source": [
        "## Dataset Loading"
      ],
      "metadata": {
        "id": "WlZaDlcbhKL1"
      }
    },
    {
      "cell_type": "markdown",
      "source": [
        "In this part, we will load the Retail Rocket dataset directly from Kaggle into our Colab environment. We’ll use the Kaggle API, which requires authentication via an API key.\n",
        "This allows us to work with the full dataset without uploading it manually, streamlining the workflow."
      ],
      "metadata": {
        "id": "cCC6XAErmjjM"
      }
    },
    {
      "cell_type": "code",
      "execution_count": 2,
      "metadata": {
        "id": "tkXgp9_petmK"
      },
      "outputs": [],
      "source": [
        "# Setting your Kaggle credentials directly in environment variables\n",
        "os.environ['KAGGLE_USERNAME'] = 'priyanshugarg291998'\n",
        "os.environ['KAGGLE_KEY'] = 'f0556f4daba04f242742ca7dccc2928c'"
      ]
    },
    {
      "cell_type": "code",
      "source": [
        "#listing the files in the rocket retail dataset\n",
        "!kaggle datasets list -s retailrocket/ecommerce-dataset\n",
        "\n",
        "# Downloading and extracting the Retail Rocket dataset into /content\n",
        "!kaggle datasets download -d retailrocket/ecommerce-dataset -p /content --unzip"
      ],
      "metadata": {
        "colab": {
          "base_uri": "https://localhost:8080/"
        },
        "id": "8UWCjoXb1f81",
        "outputId": "fd497555-8d80-4aee-a617-49eb1dda90e8"
      },
      "execution_count": 3,
      "outputs": [
        {
          "output_type": "stream",
          "name": "stdout",
          "text": [
            "ref                             title                                          size  lastUpdated                 downloadCount  voteCount  usabilityRating  \n",
            "------------------------------  ---------------------------------------  ----------  --------------------------  -------------  ---------  ---------------  \n",
            "retailrocket/ecommerce-dataset  Retailrocket recommender system dataset   304719974  2022-11-08 16:03:10.607000          39313        566  0.88235295       \n",
            "Dataset URL: https://www.kaggle.com/datasets/retailrocket/ecommerce-dataset\n",
            "License(s): CC-BY-NC-SA-4.0\n",
            "Downloading ecommerce-dataset.zip to /content\n",
            " 94% 273M/291M [00:01<00:00, 178MB/s]\n",
            "100% 291M/291M [00:01<00:00, 219MB/s]\n"
          ]
        }
      ]
    },
    {
      "cell_type": "code",
      "source": [
        "#Loading the dataset to dataframes\n",
        "df_events = pd.read_csv('/content/events.csv')\n",
        "df_item_properties_1 = pd.read_csv('/content/item_properties_part1.csv')\n",
        "df_item_properties_2 = pd.read_csv('/content/item_properties_part2.csv')\n",
        "df_category_tree = pd.read_csv('/content/category_tree.csv')\n",
        "\n",
        "#printing each dataframe shape\n",
        "print(\"Shape of df_events:\", df_events.shape)\n",
        "print(\"Shape of df_item_properties_1:\", df_item_properties_1.shape)\n",
        "print(\"Shape of df_item_properties_2:\", df_item_properties_2.shape)\n",
        "print(\"Shape of df_category_tree:\", df_category_tree.shape)\n",
        "\n",
        "print(f\"\\nfew rows of df_events:\\n {df_events.head()}\")\n",
        "print(f\"few rows of df_item_properties_1:\\n {df_item_properties_1.head()}\")\n",
        "print(f\"few rows of df_item_properties_2:\\n {df_item_properties_2.head()}\")\n",
        "print(f\"few rows of df_category_tree:\\n {df_category_tree.head()}\")"
      ],
      "metadata": {
        "colab": {
          "base_uri": "https://localhost:8080/"
        },
        "id": "XaK8i0PA3KKd",
        "outputId": "b7d116b6-ee4d-46b5-cba7-5766ded72ed1"
      },
      "execution_count": 4,
      "outputs": [
        {
          "output_type": "stream",
          "name": "stdout",
          "text": [
            "Shape of df_events: (2756101, 5)\n",
            "Shape of df_item_properties_1: (10999999, 4)\n",
            "Shape of df_item_properties_2: (9275903, 4)\n",
            "Shape of df_category_tree: (1669, 2)\n",
            "\n",
            "few rows of df_events:\n",
            "        timestamp  visitorid event  itemid  transactionid\n",
            "0  1433221332117     257597  view  355908            NaN\n",
            "1  1433224214164     992329  view  248676            NaN\n",
            "2  1433221999827     111016  view  318965            NaN\n",
            "3  1433221955914     483717  view  253185            NaN\n",
            "4  1433221337106     951259  view  367447            NaN\n",
            "few rows of df_item_properties_1:\n",
            "        timestamp  itemid    property                            value\n",
            "0  1435460400000  460429  categoryid                             1338\n",
            "1  1441508400000  206783         888          1116713 960601 n277.200\n",
            "2  1439089200000  395014         400  n552.000 639502 n720.000 424566\n",
            "3  1431226800000   59481         790                       n15360.000\n",
            "4  1431831600000  156781         917                           828513\n",
            "few rows of df_item_properties_2:\n",
            "        timestamp  itemid property            value\n",
            "0  1433041200000  183478      561           769062\n",
            "1  1439694000000  132256      976  n26.400 1135780\n",
            "2  1435460400000  420307      921  1149317 1257525\n",
            "3  1431831600000  403324      917          1204143\n",
            "4  1435460400000  230701      521           769062\n",
            "few rows of df_category_tree:\n",
            "    categoryid  parentid\n",
            "0        1016     213.0\n",
            "1         809     169.0\n",
            "2         570       9.0\n",
            "3        1691     885.0\n",
            "4         536    1691.0\n"
          ]
        }
      ]
    },
    {
      "cell_type": "code",
      "source": [
        "# Merging item_properties_part1 and item_properties_part2 into a single dataframe\n",
        "df_item_properties = pd.concat([df_item_properties_1, df_item_properties_2], ignore_index=True)\n",
        "\n",
        "# Verifying the shape of the merged dataframe\n",
        "print(\"Shape of df_item_properties (after merge):\", df_item_properties.shape)"
      ],
      "metadata": {
        "colab": {
          "base_uri": "https://localhost:8080/"
        },
        "id": "AUX-kghI6Cau",
        "outputId": "310120de-ef9c-4d83-872f-d0a2d9be3f20"
      },
      "execution_count": 5,
      "outputs": [
        {
          "output_type": "stream",
          "name": "stdout",
          "text": [
            "Shape of df_item_properties (after merge): (20275902, 4)\n"
          ]
        }
      ]
    },
    {
      "cell_type": "markdown",
      "source": [
        "Shape of df_item_properties (20275902, 4) = (Shape of df_item_properties_1(10999999, 4)) + (Shape of df_item_properties_2 (9275903, 4))\n",
        "\n",
        "Implicating that both dataframes, df_item_properties_1 and df_item_properties_2 have merged properly yielding df_item_properties."
      ],
      "metadata": {
        "id": "PSv2F8mN7maU"
      }
    },
    {
      "cell_type": "code",
      "source": [
        "#Printing few rows of df_item_properties\n",
        "print(f\"few rows of df_item_properties:\\n {df_item_properties.head()}\")\n",
        "\n",
        "# Deleting item_properties_1 and 2 to save memory\n",
        "\n",
        "del df_item_properties_1\n",
        "del df_item_properties_2"
      ],
      "metadata": {
        "colab": {
          "base_uri": "https://localhost:8080/"
        },
        "id": "hU_UfGk875cu",
        "outputId": "5e26a3e0-2150-4979-e405-9d303c1f5aef"
      },
      "execution_count": 6,
      "outputs": [
        {
          "output_type": "stream",
          "name": "stdout",
          "text": [
            "few rows of df_item_properties:\n",
            "        timestamp  itemid    property                            value\n",
            "0  1435460400000  460429  categoryid                             1338\n",
            "1  1441508400000  206783         888          1116713 960601 n277.200\n",
            "2  1439089200000  395014         400  n552.000 639502 n720.000 424566\n",
            "3  1431226800000   59481         790                       n15360.000\n",
            "4  1431831600000  156781         917                           828513\n"
          ]
        }
      ]
    },
    {
      "cell_type": "markdown",
      "source": [
        "In this section, we authenticated the Kaggle API and successfully downloaded the complete Retail Rocket ecommerce dataset into the Colab environment. The dataset comprises four files—events.csv, item_properties_part1.csv, item_properties_part2.csv, and category_tree.csv. Each file was loaded into a dedicated DataFrame, and their shapes were validated to ensure completeness.\n",
        "\n",
        "Since the item_properties data was split into two parts for distribution purposes, we merged item_properties_part1 and item_properties_part2 into a single unified DataFrame, df_item_properties, using row-wise concatenation. The merged shape matched the expected sum of the two original parts, confirming that the operation preserved all records. The original partial DataFrames were then removed from memory to optimise performance and manage resources efficiently.\n",
        "\n",
        "This step ensures that all future analysis works from a consistent and complete foundation across behavioural events, item attributes, and category hierarchies."
      ],
      "metadata": {
        "id": "xrvFjPFgArbg"
      }
    },
    {
      "cell_type": "markdown",
      "source": [
        "## Dataset Structure and Basic Overview"
      ],
      "metadata": {
        "id": "z_9pK6CbAoy8"
      }
    },
    {
      "cell_type": "markdown",
      "source": [
        "This section provides a structured summary of each DataFrame. The focus is to:\n",
        "\n",
        "- Understand the columns present in each dataset.\n",
        "\n",
        "- Confirm data types and non-null counts.\n",
        "\n",
        "- Check for any unexpected column names or data type mismatches.\n",
        "\n",
        "These initial observations will help us anticipate what cleaning or transformations may be required in the next steps."
      ],
      "metadata": {
        "id": "-smC15J1GvLZ"
      }
    },
    {
      "cell_type": "markdown",
      "source": [
        "### Dataset Info Summary"
      ],
      "metadata": {
        "id": "ibBlmvZwG35Q"
      }
    },
    {
      "cell_type": "code",
      "source": [
        "# Summarising the structure of each dataframe to understand column names, data types and completeness\n",
        "\n",
        "print(\"Summary of df_events:\")\n",
        "df_events.info()\n",
        "print(\"\\nSummary of df_item_properties:\")\n",
        "df_item_properties.info()\n",
        "print(\"\\nSummary of df_category_tree:\")\n",
        "df_category_tree.info()"
      ],
      "metadata": {
        "colab": {
          "base_uri": "https://localhost:8080/"
        },
        "id": "gtViZ0588XkG",
        "outputId": "affc7846-47ab-477c-e972-f1b7cfb38154"
      },
      "execution_count": 7,
      "outputs": [
        {
          "output_type": "stream",
          "name": "stdout",
          "text": [
            "Summary of df_events:\n",
            "<class 'pandas.core.frame.DataFrame'>\n",
            "RangeIndex: 2756101 entries, 0 to 2756100\n",
            "Data columns (total 5 columns):\n",
            " #   Column         Dtype  \n",
            "---  ------         -----  \n",
            " 0   timestamp      int64  \n",
            " 1   visitorid      int64  \n",
            " 2   event          object \n",
            " 3   itemid         int64  \n",
            " 4   transactionid  float64\n",
            "dtypes: float64(1), int64(3), object(1)\n",
            "memory usage: 105.1+ MB\n",
            "\n",
            "Summary of df_item_properties:\n",
            "<class 'pandas.core.frame.DataFrame'>\n",
            "RangeIndex: 20275902 entries, 0 to 20275901\n",
            "Data columns (total 4 columns):\n",
            " #   Column     Dtype \n",
            "---  ------     ----- \n",
            " 0   timestamp  int64 \n",
            " 1   itemid     int64 \n",
            " 2   property   object\n",
            " 3   value      object\n",
            "dtypes: int64(2), object(2)\n",
            "memory usage: 618.8+ MB\n",
            "\n",
            "Summary of df_category_tree:\n",
            "<class 'pandas.core.frame.DataFrame'>\n",
            "RangeIndex: 1669 entries, 0 to 1668\n",
            "Data columns (total 2 columns):\n",
            " #   Column      Non-Null Count  Dtype  \n",
            "---  ------      --------------  -----  \n",
            " 0   categoryid  1669 non-null   int64  \n",
            " 1   parentid    1644 non-null   float64\n",
            "dtypes: float64(1), int64(1)\n",
            "memory usage: 26.2 KB\n"
          ]
        }
      ]
    },
    {
      "cell_type": "markdown",
      "source": [
        "Each dataset was loaded successfully and its structure was examined to understand the available columns, data types, and potential missing values.\n",
        "The df_events DataFrame contains user interaction logs including timestamps, visitor IDs, event types (view, addtocart, transaction), and associated item and transaction identifiers. The transactionid column has missing values in non-transaction events, which is expected.\n",
        "\n",
        "The merged df_item_properties DataFrame includes item-level metadata snapshots, capturing how item attributes (such as categoryid and available) change over time. Both property and value columns are object types, as these fields often contain hashed or categorical information.\n",
        "\n",
        "The df_category_tree DataFrame represents the hierarchy of product categories. The parentid field contains missing values for root categories, which will be handled during category tree exploration.\n",
        "\n",
        "All datasets appear structurally complete, and no column-level data type inconsistencies were identified at this stage. This confirms that the data is ready for further inspection and cleaning."
      ],
      "metadata": {
        "id": "7LbgF_g0Nivc"
      }
    },
    {
      "cell_type": "markdown",
      "source": [
        "### Missing Values Analysis"
      ],
      "metadata": {
        "id": "Ru5NzhXQPtLq"
      }
    },
    {
      "cell_type": "markdown",
      "source": [
        "The goal here is to:\n",
        "\n",
        "- Calculate the total number of missing values in each dataset.\n",
        "\n",
        "- Summarise how many missing values exist in each column.\n",
        "\n",
        "- Validate whether these missing values are expected (e.g., transactionid in non-purchase events, parentid in root categories) or need attention.\n",
        "\n",
        "This step will help determine whether additional data cleaning is needed before analysis."
      ],
      "metadata": {
        "id": "s7OM_z5BRkeW"
      }
    },
    {
      "cell_type": "code",
      "source": [
        "# Function to print total and column-wise missing values in a DataFrame\n",
        "\n",
        "def print_missing_values_summary(dataframe, dataframe_name):\n",
        "    total_missing = dataframe.isnull().sum().sum()\n",
        "    missing_per_column = dataframe.isnull().sum()\n",
        "\n",
        "    print(f\"Missing value summary for {dataframe_name}:\")\n",
        "    print(f\"Total records in {dataframe_name}: {dataframe.shape[0]}\")\n",
        "    print(f\"Total missing values in {dataframe_name}: {total_missing}\\n\")\n",
        "\n",
        "    if total_missing == 0:\n",
        "        print(\"No missing values found in any column.\\n\")\n",
        "    else:\n",
        "        print(\"Missing values by column:\")\n",
        "        print(missing_per_column[missing_per_column > 0])\n",
        "        print(\"-\" * 30)\n",
        "\n",
        "# Running for each dataset\n",
        "print_missing_values_summary(df_events, 'df_events')\n",
        "print_missing_values_summary(df_item_properties, 'df_item_properties')\n",
        "print_missing_values_summary(df_category_tree, 'df_category_tree')\n"
      ],
      "metadata": {
        "colab": {
          "base_uri": "https://localhost:8080/"
        },
        "id": "vdBYBAgLNmIg",
        "outputId": "ef41fc67-8c01-4bfc-b8ce-0717a3eb85b8"
      },
      "execution_count": 8,
      "outputs": [
        {
          "output_type": "stream",
          "name": "stdout",
          "text": [
            "Missing value summary for df_events:\n",
            "Total records in df_events: 2756101\n",
            "Total missing values in df_events: 2733644\n",
            "\n",
            "Missing values by column:\n",
            "transactionid    2733644\n",
            "dtype: int64\n",
            "------------------------------\n",
            "Missing value summary for df_item_properties:\n",
            "Total records in df_item_properties: 20275902\n",
            "Total missing values in df_item_properties: 0\n",
            "\n",
            "No missing values found in any column.\n",
            "\n",
            "Missing value summary for df_category_tree:\n",
            "Total records in df_category_tree: 1669\n",
            "Total missing values in df_category_tree: 25\n",
            "\n",
            "Missing values by column:\n",
            "parentid    25\n",
            "dtype: int64\n",
            "------------------------------\n"
          ]
        }
      ]
    },
    {
      "cell_type": "markdown",
      "source": [
        "The missing values analysis confirms that the datasets are generally complete, with missing entries only in columns where they are expected.\n",
        "\n",
        "In df_events, the transactionid column has 2,733,644 missing values. This is consistent with the dataset structure, as only transaction event types are associated with a transaction ID. All other events (view and addtocart) legitimately lack a transactionid.\n",
        "\n",
        "The merged df_item_properties dataset contains no missing values, confirming its integrity across all rows and columns.\n",
        "\n",
        "In the df_category_tree, the parentid column has 25 missing values. These correspond to root categories in the hierarchy and represent a normal structure where some categories do not have a parent.\n",
        "\n",
        "No further imputation or removal of missing values is required at this stage, as these gaps reflect the natural structure of the data."
      ],
      "metadata": {
        "id": "HWnJw1YbSAZQ"
      }
    },
    {
      "cell_type": "markdown",
      "source": [
        "## Event Type Distribution"
      ],
      "metadata": {
        "id": "vSiSBGumULy6"
      }
    },
    {
      "cell_type": "markdown",
      "source": [
        "#### Event Type Counts"
      ],
      "metadata": {
        "id": "uEHLe4FwU2A0"
      }
    },
    {
      "cell_type": "code",
      "source": [
        "# Summarising event type distribution to understand user interaction behaviour\n",
        "\n",
        "# Count of each event type\n",
        "event_type_counts = df_events['event'].value_counts().reset_index()\n",
        "event_type_counts.columns = ['event_type', 'count']\n",
        "\n",
        "# Display the summary table\n",
        "print(\"Event type distribution:\")\n",
        "print(event_type_counts)\n",
        "\n",
        "# Defining folder where output files will be saved\n",
        "results_folder_path = '/content/results'\n",
        "os.makedirs(results_folder_path, exist_ok=True)\n",
        "\n",
        "# Function to save the current matplotlib plot to the results folder\n",
        "def save_plot(plot_filename):\n",
        "    file_path = os.path.join(results_folder_path, plot_filename)\n",
        "    import matplotlib.pyplot as plt\n",
        "    plt.savefig(file_path, bbox_inches='tight')\n",
        "    print(f\"Plot saved as {file_path}\")\n",
        "\n",
        "# Function to save a DataFrame summary to the results folder as a CSV\n",
        "def save_summary(dataframe, summary_filename):\n",
        "    file_path = os.path.join(results_folder_path, summary_filename)\n",
        "    dataframe.to_csv(file_path, index=False)\n",
        "    print(f\"Summary saved as {file_path}\")\n",
        "\n",
        "# Saving the event type counts summary as a CSV\n",
        "save_summary(event_type_counts, 'event_type_counts.csv')"
      ],
      "metadata": {
        "colab": {
          "base_uri": "https://localhost:8080/"
        },
        "id": "B2IGjBLfTvgA",
        "outputId": "b95eb3a3-c0b5-4c6a-a4c1-5a91ccc29425"
      },
      "execution_count": 9,
      "outputs": [
        {
          "output_type": "stream",
          "name": "stdout",
          "text": [
            "Event type distribution:\n",
            "    event_type    count\n",
            "0         view  2664312\n",
            "1    addtocart    69332\n",
            "2  transaction    22457\n",
            "Summary saved as /content/results/event_type_counts.csv\n"
          ]
        }
      ]
    },
    {
      "cell_type": "markdown",
      "source": [
        "#### Event Type Distribution Plot"
      ],
      "metadata": {
        "id": "VHASWdENVHMO"
      }
    },
    {
      "cell_type": "code",
      "source": [
        "plt.figure(figsize=(8, 5))\n",
        "plt.bar(event_type_counts['event_type'], event_type_counts['count'], color='steelblue')\n",
        "plt.title(\"Distribution of Event Types\")\n",
        "plt.xlabel(\"Event Type\")\n",
        "plt.ylabel(\"Number of Records\")\n",
        "plt.xticks(rotation=0)\n",
        "\n",
        "# Formating y-axis to thousands\n",
        "plt.gca().yaxis.set_major_formatter(mtick.FuncFormatter(lambda x, _: f'{int(x/1000)}K'))\n",
        "\n",
        "plt.tight_layout()\n",
        "plt.show()\n",
        "\n",
        "# Saving the event type distribution plot\n",
        "save_plot('event_type_distribution.png')"
      ],
      "metadata": {
        "colab": {
          "base_uri": "https://localhost:8080/",
          "height": 542
        },
        "id": "M0PhPJmEVIb7",
        "outputId": "dd433561-d4bc-42fc-d2d9-614036283a5f"
      },
      "execution_count": 10,
      "outputs": [
        {
          "output_type": "display_data",
          "data": {
            "text/plain": [
              "<Figure size 800x500 with 1 Axes>"
            ],
            "image/png": "[encoded data removed]"
          },
          "metadata": {}
        },
        {
          "output_type": "stream",
          "name": "stdout",
          "text": [
            "Plot saved as /content/results/event_type_distribution.png\n"
          ]
        },
        {
          "output_type": "display_data",
          "data": {
            "text/plain": [
              "<Figure size 640x480 with 0 Axes>"
            ]
          },
          "metadata": {}
        }
      ]
    },
    {
      "cell_type": "markdown",
      "source": [
        "The event type distribution shows a highly imbalanced dataset, with the vast majority of events classified as view. Specifically, there are approximately 2.66 million view events, compared to 69,000 add-to-cart events and 22,000 transactions. This imbalance reflects the natural behaviour in online retail, where most customer interactions do not result in immediate purchases.\n",
        "\n",
        "To improve the interpretability of the distribution plot for non-technical stakeholders, the y-axis was reformatted to display counts in thousands (K), and the plot clearly shows the relative differences in event volumes across categories. This observation highlights the need for downstream models to account for event imbalance, especially when predicting conversions or segmenting based on interaction types.\n",
        "\n",
        "The dataset shows a natural skew towards viewing events, which reflects common ecommerce browsing behaviour. Rather than using raw event counts as static features, since our model will rely transformed latent sequence patterns, our clustering models should likely yield more meaningful clusters as it accounts for this biasness in ecommerce browsing behaviour."
      ],
      "metadata": {
        "id": "BLoI-85mXWOW"
      }
    },
    {
      "cell_type": "markdown",
      "source": [
        "### Events per Visitor Summary"
      ],
      "metadata": {
        "id": "qCuMex0se272"
      }
    },
    {
      "cell_type": "code",
      "source": [
        "# Summarising the number of events each visitor performed\n",
        "\n",
        "# Count number of events per visitor\n",
        "visitor_event_counts = df_events['visitorid'].value_counts().reset_index()\n",
        "visitor_event_counts.columns = ['visitorid', 'event_count']\n",
        "\n",
        "# Display the top visitors by activity\n",
        "print(\"Top 10 most active visitors:\")\n",
        "print(visitor_event_counts.head(10))\n",
        "\n",
        "# Saving the output as a CSV\n",
        "save_summary(visitor_event_counts, 'visitor_event_counts.csv')"
      ],
      "metadata": {
        "colab": {
          "base_uri": "https://localhost:8080/"
        },
        "id": "wxySDuXZXkVb",
        "outputId": "b9e708d2-2ee9-4084-d014-d6e7428f7bf6"
      },
      "execution_count": 11,
      "outputs": [
        {
          "output_type": "stream",
          "name": "stdout",
          "text": [
            "Top 10 most active visitors:\n",
            "   visitorid  event_count\n",
            "0    1150086         7757\n",
            "1     530559         4328\n",
            "2     152963         3024\n",
            "3     895999         2474\n",
            "4     163561         2410\n",
            "5     371606         2345\n",
            "6     286616         2252\n",
            "7     684514         2246\n",
            "8     892013         2024\n",
            "9     861299         1991\n",
            "Summary saved as /content/results/visitor_event_counts.csv\n"
          ]
        }
      ]
    },
    {
      "cell_type": "code",
      "source": [
        "# Plot 1: Full visitor event count distribution\n",
        "plt.figure(figsize=(12, 4))\n",
        "plt.hist(visitor_event_counts['event_count'], bins=100, color='steelblue')\n",
        "plt.title(\"Distribution of Event Counts per Visitor (Full Range)\")\n",
        "plt.xlabel(\"Event Count\")\n",
        "plt.ylabel(\"Number of Visitors\")\n",
        "plt.tight_layout()\n",
        "plt.show()\n",
        "\n",
        "save_plot('visitor_event_distribution_full.png')\n",
        "\n",
        "# Plot 2: Zoomed in (up to 100 events)\n",
        "plt.figure(figsize=(12, 4))\n",
        "plt.hist(visitor_event_counts['event_count'], bins=100, color='steelblue')\n",
        "plt.xlim(0, 100)\n",
        "plt.title(\"Distribution of Event Counts per Visitor (0–100 Events)\")\n",
        "plt.xlabel(\"Event Count\")\n",
        "plt.ylabel(\"Number of Visitors\")\n",
        "plt.tight_layout()\n",
        "plt.show()\n",
        "\n",
        "save_plot('visitor_event_distribution_zoomed.png')\n"
      ],
      "metadata": {
        "colab": {
          "base_uri": "https://localhost:8080/",
          "height": 866
        },
        "id": "bYplDbItfLhd",
        "outputId": "ea6c3246-8e11-4740-c552-25a2d484d601"
      },
      "execution_count": 12,
      "outputs": [
        {
          "output_type": "display_data",
          "data": {
            "text/plain": [
              "<Figure size 1200x400 with 1 Axes>"
            ],
            "image/png": "[encoded data removed]"
          },
          "metadata": {}
        },
        {
          "output_type": "stream",
          "name": "stdout",
          "text": [
            "Plot saved as /content/results/visitor_event_distribution_full.png\n"
          ]
        },
        {
          "output_type": "display_data",
          "data": {
            "text/plain": [
              "<Figure size 640x480 with 0 Axes>"
            ]
          },
          "metadata": {}
        },
        {
          "output_type": "display_data",
          "data": {
            "text/plain": [
              "<Figure size 1200x400 with 1 Axes>"
            ],
            "image/png": "[encoded data removed]"
          },
          "metadata": {}
        },
        {
          "output_type": "stream",
          "name": "stdout",
          "text": [
            "Plot saved as /content/results/visitor_event_distribution_zoomed.png\n"
          ]
        },
        {
          "output_type": "display_data",
          "data": {
            "text/plain": [
              "<Figure size 640x480 with 0 Axes>"
            ]
          },
          "metadata": {}
        }
      ]
    },
    {
      "cell_type": "markdown",
      "source": [
        "The analysis of event counts per visitor highlights a highly skewed user activity pattern. While a small group of visitors exhibits extremely high engagement—with some generating thousands of events—the vast majority of users interact only a few times with the platform. This observation aligns with typical ecommerce traffic patterns, where casual browsers significantly outnumber highly engaged customers.\n",
        "\n",
        "Two visualisations were created to better represent this skew. The full-range histogram shows the overall distribution of user activity, while the zoomed-in version focuses on visitors with fewer than 100 events, offering a clearer view of the common usage patterns.\n",
        "\n",
        "This understanding will influence session construction and embedding design, ensuring that both high-activity and low-activity users are meaningfully represented in the behavioural segmentation process."
      ],
      "metadata": {
        "id": "UfmmoviYqtpT"
      }
    },
    {
      "cell_type": "markdown",
      "source": [
        "### Time Gap Analysis Between Events"
      ],
      "metadata": {
        "id": "zUcAnPdYzJMZ"
      }
    },
    {
      "cell_type": "markdown",
      "source": [
        "In this step, we will:\n",
        "\n",
        "- Calculate the time difference between consecutive events for each visitor.\n",
        "\n",
        "- Convert these differences into seconds.\n",
        "\n",
        "- Analyse the distribution of time gaps to help determine a sensible session timeout threshold (e.g., 30 minutes or 1 hour).\n",
        "\n",
        "Visualise the results to understand how frequently users return within the same session."
      ],
      "metadata": {
        "id": "3AJz7h2DzUER"
      }
    },
    {
      "cell_type": "code",
      "source": [
        "# Sorting events by visitor and timestamp to calculate time gaps correctly\n",
        "df_events_sorted = df_events.sort_values(['visitorid', 'timestamp']).copy()\n",
        "\n",
        "# Calculating time difference between consecutive events per visitor\n",
        "df_events_sorted['time_diff'] = df_events_sorted.groupby('visitorid')['timestamp'].diff()\n",
        "\n",
        "# Removing NaN time differences (which occur for the first event of each visitor)\n",
        "df_events_sorted = df_events_sorted.dropna(subset=['time_diff'])\n",
        "\n",
        "# Converting time differences from milliseconds to seconds\n",
        "df_events_sorted['time_diff_sec'] = df_events_sorted['time_diff'] / 1000\n",
        "\n",
        "# Taking the log scale for better visualisation (many small gaps, some very large)\n",
        "df_events_sorted['log_time_gap'] = np.log1p(df_events_sorted['time_diff_sec'])\n",
        "\n",
        "# Saving the dataframe\n",
        "save_summary(df_events_sorted, 'df_events_sorted.csv')"
      ],
      "metadata": {
        "colab": {
          "base_uri": "https://localhost:8080/"
        },
        "id": "1GIM8fP4fYbE",
        "outputId": "2c7c91df-79b3-4125-d03c-8792fb62469e"
      },
      "execution_count": 14,
      "outputs": [
        {
          "output_type": "stream",
          "name": "stderr",
          "text": [
            "/tmp/ipython-input-14-4220816253.py:14: SettingWithCopyWarning: \n",
            "A value is trying to be set on a copy of a slice from a DataFrame.\n",
            "Try using .loc[row_indexer,col_indexer] = value instead\n",
            "\n",
            "See the caveats in the documentation: https://pandas.pydata.org/pandas-docs/stable/user_guide/indexing.html#returning-a-view-versus-a-copy\n",
            "  df_events_sorted['log_time_gap'] = np.log1p(df_events_sorted['time_diff_sec'])\n"
          ]
        },
        {
          "output_type": "stream",
          "name": "stdout",
          "text": [
            "Summary saved as /content/results/df_events_sorted.csv\n"
          ]
        }
      ]
    },
    {
      "cell_type": "markdown",
      "source": [
        "### Visualising the Time Gap Distribution"
      ],
      "metadata": {
        "id": "aPXF4JgO0zwq"
      }
    },
    {
      "cell_type": "code",
      "source": [
        "plt.figure(figsize=(10, 5))\n",
        "plt.hist(df_events_sorted['log_time_gap'], bins=100, color='steelblue')\n",
        "plt.title(\"Log Distribution of Time Gaps Between Consecutive Events\")\n",
        "plt.xlabel(\"Log(Time Gap in Seconds)\")\n",
        "plt.ylabel(\"Frequency\")\n",
        "plt.tight_layout()\n",
        "plt.show()\n",
        "\n",
        "# Saving the plot for dashboard\n",
        "save_plot('time_gap_distribution_log.png')\n"
      ],
      "metadata": {
        "colab": {
          "base_uri": "https://localhost:8080/",
          "height": 542
        },
        "id": "nlBjX_C-01LS",
        "outputId": "5ceff4f9-cc59-49f2-dc04-f6b623d6bcaa"
      },
      "execution_count": 15,
      "outputs": [
        {
          "output_type": "display_data",
          "data": {
            "text/plain": [
              "<Figure size 1000x500 with 1 Axes>"
            ],
            "image/png": "[encoded data removed]"
          },
          "metadata": {}
        },
        {
          "output_type": "stream",
          "name": "stdout",
          "text": [
            "Plot saved as /content/results/time_gap_distribution_log.png\n"
          ]
        },
        {
          "output_type": "display_data",
          "data": {
            "text/plain": [
              "<Figure size 640x480 with 0 Axes>"
            ]
          },
          "metadata": {}
        }
      ]
    },
    {
      "cell_type": "markdown",
      "source": [
        "To support session-based behavioural modelling, we analysed the distribution of time gaps between consecutive user events. The dataset was first sorted by visitor and timestamp, and the difference between each successive event was calculated in seconds.\n",
        "\n",
        "A log transformation was applied to the time gaps to improve interpretability, given the wide range of values. The resulting distribution shows that the majority of time gaps fall within a moderate range, indicating sustained user engagement within relatively short bursts of activity. However, the presence of a long right tail and several smaller peaks suggests periodic returns or prolonged inactivity between sessions.\n",
        "\n",
        "This behaviour aligns with the browsing patterns typical in ecommerce, where users may revisit the platform intermittently. These observations will guide the choice of a session timeout threshold — likely in the range of 30 minutes to 1 hour — which will be applied when constructing behaviour sessions for neural embeddings."
      ],
      "metadata": {
        "id": "swXmSp_L1sR-"
      }
    },
    {
      "cell_type": "markdown",
      "source": [
        "### Computing Quantiles of Raw Time Gaps"
      ],
      "metadata": {
        "id": "uK1DivNx4DTm"
      }
    },
    {
      "cell_type": "code",
      "source": [
        "# Calculating descriptive statistics for the raw time gaps\n",
        "gap_statistics = df_events_sorted['time_diff_sec'].describe(percentiles=[0.25, 0.5, 0.75, 0.90, 0.95, 0.99])\n",
        "\n",
        "# Display summary statistics\n",
        "print(\"Summary statistics of time gaps (seconds):\")\n",
        "print(gap_statistics)"
      ],
      "metadata": {
        "colab": {
          "base_uri": "https://localhost:8080/"
        },
        "id": "yxYBOvS11s_C",
        "outputId": "b87e5707-a334-49fa-b433-0a40ebd5a9cb"
      },
      "execution_count": 16,
      "outputs": [
        {
          "output_type": "stream",
          "name": "stdout",
          "text": [
            "Summary statistics of time gaps (seconds):\n",
            "count    1.348521e+06\n",
            "mean     2.142310e+05\n",
            "std      9.039612e+05\n",
            "min      0.000000e+00\n",
            "25%      3.823300e+01\n",
            "50%      1.364080e+02\n",
            "75%      2.449789e+03\n",
            "90%      2.635238e+05\n",
            "95%      1.190249e+06\n",
            "99%      5.160078e+06\n",
            "max      1.178745e+07\n",
            "Name: time_diff_sec, dtype: float64\n"
          ]
        }
      ]
    },
    {
      "cell_type": "markdown",
      "source": [
        "Based on the time gap analysis, 75% of user actions occur within a time gap of ~40 minutes. To segment user behaviour into meaningful sessions, a timeout threshold of 30 minutes (1,800 seconds) will be applied. This threshold captures the majority of within-session activity while separating distinct visits.\n",
        "\n",
        "This approach balances the natural breakpoints in user behaviour observed in the data and aligns with common practices in session-based modelling."
      ],
      "metadata": {
        "id": "h2Kn37Py8jUF"
      }
    },
    {
      "cell_type": "markdown",
      "source": [
        "### Session Construction Function"
      ],
      "metadata": {
        "id": "aThqT_XU9m-t"
      }
    },
    {
      "cell_type": "code",
      "source": [
        "# Function to assign session IDs based on time gaps\n",
        "def assign_sessions(dataframe, time_gap_threshold_seconds=1800):\n",
        "    dataframe = dataframe.sort_values(['visitorid', 'timestamp']).copy()\n",
        "\n",
        "    # Calculate time difference between consecutive events\n",
        "    dataframe['time_diff_sec'] = dataframe.groupby('visitorid')['timestamp'].diff().fillna(0) / 1000\n",
        "\n",
        "    # Start new session if time gap > threshold\n",
        "    dataframe['new_session'] = dataframe['time_diff_sec'] > time_gap_threshold_seconds\n",
        "\n",
        "    # Assign session IDs using cumulative sum\n",
        "    dataframe['session_id'] = dataframe.groupby('visitorid')['new_session'].cumsum()\n",
        "\n",
        "    # Create unique session ID combining visitor and session number\n",
        "    dataframe['session_id'] = dataframe['visitorid'].astype(str) + \"_\" + dataframe['session_id'].astype(str)\n",
        "\n",
        "    return dataframe\n",
        "\n",
        "# Applying the session construction\n",
        "df_sessions = assign_sessions(df_events, time_gap_threshold_seconds=1800)\n",
        "\n",
        "# Checking the first few rows\n",
        "print(\"Sample rows with session IDs assigned:\")\n",
        "print(df_sessions[['visitorid', 'timestamp', 'event', 'session_id']].head(10))\n",
        "\n",
        "# Saving Sessions\n",
        "save_summary(df_sessions, 'df_sessions.csv')"
      ],
      "metadata": {
        "colab": {
          "base_uri": "https://localhost:8080/"
        },
        "id": "o0QZqDiH8kJ0",
        "outputId": "18fc4ca1-b018-49f1-9c83-e485e8551dee"
      },
      "execution_count": 19,
      "outputs": [
        {
          "output_type": "stream",
          "name": "stdout",
          "text": [
            "Sample rows with session IDs assigned:\n",
            "         visitorid      timestamp event session_id\n",
            "1361687          0  1442004589439  view        0_0\n",
            "1367212          0  1442004759591  view        0_0\n",
            "1367342          0  1442004917175  view        0_0\n",
            "830385           1  1439487966444  view        1_0\n",
            "742616           2  1438969904567  view        2_0\n",
            "735273           2  1438970013790  view        2_0\n",
            "737711           2  1438970212664  view        2_0\n",
            "726292           2  1438970468920  view        2_0\n",
            "737615           2  1438970905669  view        2_0\n",
            "735202           2  1438971444375  view        2_0\n",
            "Summary saved as /content/results/df_sessions.csv\n"
          ]
        }
      ]
    },
    {
      "cell_type": "markdown",
      "source": [],
      "metadata": {
        "id": "LocUdoVP_UXE"
      }
    },
    {
      "cell_type": "markdown",
      "source": [
        "## Session Construction"
      ],
      "metadata": {
        "id": "b4y1Kr9__Wwq"
      }
    },
    {
      "cell_type": "code",
      "source": [
        "# Defining session timeout threshold (30 minutes in seconds)\n",
        "session_timeout_sec = 1800\n",
        "\n",
        "# Sorting events again for safety\n",
        "df_events_sorted = df_events.sort_values(['visitorid', 'timestamp']).copy()\n",
        "\n",
        "# Calculating time difference between events per visitor\n",
        "df_events_sorted['time_diff'] = df_events_sorted.groupby('visitorid')['timestamp'].diff() / 1000  # converting to seconds\n",
        "\n",
        "# Identifying where a new session should begin\n",
        "df_events_sorted['new_session'] = (df_events_sorted['time_diff'] > session_timeout_sec) | (df_events_sorted['time_diff'].isnull())\n",
        "\n",
        "# Cumulative session ID per visitor\n",
        "df_events_sorted['session_id'] = df_events_sorted.groupby('visitorid')['new_session'].cumsum()\n",
        "\n",
        "# Optional: create a global unique session ID\n",
        "df_events_sorted['session_global_id'] = df_events_sorted['visitorid'].astype(str) + '_' + df_events_sorted['session_id'].astype(str)\n",
        "\n",
        "# Verifying the output\n",
        "print(\"Sample sessionised events:\")\n",
        "print(df_events_sorted[['visitorid', 'timestamp', 'event', 'session_id', 'session_global_id']].head(10))"
      ],
      "metadata": {
        "colab": {
          "base_uri": "https://localhost:8080/"
        },
        "id": "UjJRsDa2_S19",
        "outputId": "d3ccbd90-ca25-4620-93b4-5be09617f4a9"
      },
      "execution_count": 21,
      "outputs": [
        {
          "output_type": "stream",
          "name": "stdout",
          "text": [
            "Sample sessionised events:\n",
            "         visitorid      timestamp event  session_id session_global_id\n",
            "1361687          0  1442004589439  view           1               0_1\n",
            "1367212          0  1442004759591  view           1               0_1\n",
            "1367342          0  1442004917175  view           1               0_1\n",
            "830385           1  1439487966444  view           1               1_1\n",
            "742616           2  1438969904567  view           1               2_1\n",
            "735273           2  1438970013790  view           1               2_1\n",
            "737711           2  1438970212664  view           1               2_1\n",
            "726292           2  1438970468920  view           1               2_1\n",
            "737615           2  1438970905669  view           1               2_1\n",
            "735202           2  1438971444375  view           1               2_1\n"
          ]
        }
      ]
    },
    {
      "cell_type": "markdown",
      "source": [
        "To convert raw event logs into structured behaviour sessions, we applied a session timeout threshold of 30 minutes. Events were sorted by visitor and timestamp, and time gaps between consecutive actions were calculated. A new session was initiated whenever a user was inactive for more than 1,800 seconds or when the first event for a visitor occurred.\n",
        "\n",
        "Each session was assigned a unique session_id per visitor, and a global session identifier (session_global_id) was created for easier analysis and embedding preparation. This session structure will form the foundation for downstream modelling, where the goal is to capture meaningful behavioural sequences rather than isolated events."
      ],
      "metadata": {
        "id": "ZWf9sj-vAvrJ"
      }
    },
    {
      "cell_type": "markdown",
      "source": [
        "## Sessions per Visitor Analysis"
      ],
      "metadata": {
        "id": "1nHRIRXIBb63"
      }
    },
    {
      "cell_type": "markdown",
      "source": [
        "### Sessions per Visitor Summary"
      ],
      "metadata": {
        "id": "6uhukeE2BsN7"
      }
    },
    {
      "cell_type": "code",
      "source": [
        "# Counting how many sessions each visitor has\n",
        "sessions_per_visitor = df_events_sorted.groupby('visitorid')['session_id'].nunique().reset_index()\n",
        "sessions_per_visitor.columns = ['visitorid', 'session_count']\n",
        "\n",
        "# Displaying visitors with the most sessions\n",
        "print(\"Top 10 visitors with the most sessions:\")\n",
        "print(sessions_per_visitor.sort_values(by='session_count', ascending=False).head(10))\n"
      ],
      "metadata": {
        "colab": {
          "base_uri": "https://localhost:8080/"
        },
        "id": "8uZWGeXf_dZT",
        "outputId": "92356186-dd36-4c35-c6c1-d41a876c249c"
      },
      "execution_count": 23,
      "outputs": [
        {
          "output_type": "stream",
          "name": "stdout",
          "text": [
            "Top 10 visitors with the most sessions:\n",
            "         visitorid  session_count\n",
            "316850      316850            462\n",
            "825321      825321            417\n",
            "895999      895999            414\n",
            "638482      638482            353\n",
            "518659      518659            302\n",
            "1126569    1126569            282\n",
            "229157      229157            279\n",
            "530559      530559            269\n",
            "85734        85734            267\n",
            "1165148    1165148            264\n"
          ]
        }
      ]
    },
    {
      "cell_type": "markdown",
      "source": [
        "### Plotting Sessions per Visitor Distribution"
      ],
      "metadata": {
        "id": "mqvZgtfKB5z3"
      }
    },
    {
      "cell_type": "code",
      "source": [
        "plt.figure(figsize=(10, 5))\n",
        "plt.hist(sessions_per_visitor['session_count'], bins=50, color='steelblue')\n",
        "plt.title(\"Distribution of Sessions per Visitor\")\n",
        "plt.xlabel(\"Number of Sessions\")\n",
        "plt.ylabel(\"Number of Visitors\")\n",
        "plt.tight_layout()\n",
        "plt.show()\n",
        "\n",
        "save_plot('sessions_per_visitor_distribution.png')"
      ],
      "metadata": {
        "colab": {
          "base_uri": "https://localhost:8080/",
          "height": 542
        },
        "id": "UPfwii0yBo7i",
        "outputId": "abc50b0b-257c-4232-e655-db53c91c1940"
      },
      "execution_count": 24,
      "outputs": [
        {
          "output_type": "display_data",
          "data": {
            "text/plain": [
              "<Figure size 1000x500 with 1 Axes>"
            ],
            "image/png": "[encoded data removed]"
          },
          "metadata": {}
        },
        {
          "output_type": "stream",
          "name": "stdout",
          "text": [
            "Plot saved as /content/results/sessions_per_visitor_distribution.png\n"
          ]
        },
        {
          "output_type": "display_data",
          "data": {
            "text/plain": [
              "<Figure size 640x480 with 0 Axes>"
            ]
          },
          "metadata": {}
        }
      ]
    },
    {
      "cell_type": "markdown",
      "source": [
        "The distribution of sessions per visitor highlights a highly imbalanced engagement pattern. Most visitors have only a single session, reflecting typical ecommerce browsing behaviour. However, a small number of users have an exceptionally high number of sessions, with the most active visitor initiating over 460 sessions.\n",
        "\n",
        "This observation aligns with the earlier user activity distribution, reinforcing the pattern that only a small subset of visitors return to the platform frequently. These session counts will inform downstream analysis, particularly when distinguishing between casual browsers and consistently engaged users."
      ],
      "metadata": {
        "id": "6lhJkDu-Csve"
      }
    },
    {
      "cell_type": "markdown",
      "source": [
        "## Events per Session"
      ],
      "metadata": {
        "id": "OAbA0UkxDv22"
      }
    },
    {
      "cell_type": "markdown",
      "source": [
        "### Session Length Summary"
      ],
      "metadata": {
        "id": "yL93cUsDE-5Z"
      }
    },
    {
      "cell_type": "code",
      "source": [
        "# Counting how many events each session contains\n",
        "events_per_session = df_events_sorted.groupby('session_global_id').size().reset_index(name='event_count')\n",
        "\n",
        "# Display the top sessions by activity\n",
        "print(\"Top 10 sessions with the most events:\")\n",
        "print(events_per_session.sort_values(by='event_count', ascending=False).head(10))\n",
        "\n",
        "#Saving to csv\n",
        "save_summary(events_per_session, 'events_per_session.csv')"
      ],
      "metadata": {
        "colab": {
          "base_uri": "https://localhost:8080/"
        },
        "id": "T-drLcwiCtSI",
        "outputId": "2c0df318-3715-4b12-eb90-315e7a7396a2"
      },
      "execution_count": 29,
      "outputs": [
        {
          "output_type": "stream",
          "name": "stdout",
          "text": [
            "Top 10 sessions with the most events:\n",
            "        session_global_id  event_count\n",
            "802867           310759_9          417\n",
            "434817         1313381_27          330\n",
            "1092989          519839_2          320\n",
            "1107053          530033_1          310\n",
            "1477736         79627_192          275\n",
            "1225897          615132_9          248\n",
            "887771           371606_3          244\n",
            "769351          286616_15          243\n",
            "1477708         79627_167          237\n",
            "1434581         765630_14          237\n",
            "Summary saved as /content/results/events_per_session.csv\n"
          ]
        }
      ]
    },
    {
      "cell_type": "markdown",
      "source": [
        "### Session Length Distribution Plot"
      ],
      "metadata": {
        "id": "vTy7CfNbFK7g"
      }
    },
    {
      "cell_type": "code",
      "source": [
        "# Full distribution (keep for reference)\n",
        "plt.figure(figsize=(10, 5))\n",
        "plt.hist(events_per_session['event_count'], bins=50, color='steelblue')\n",
        "plt.title(\"Distribution of Events per Session (Full Range)\")\n",
        "plt.xlabel(\"Number of Events\")\n",
        "plt.ylabel(\"Number of Sessions\")\n",
        "plt.tight_layout()\n",
        "plt.show()\n",
        "\n",
        "save_plot('events_per_session_distribution_full.png')\n",
        "\n",
        "# Zoomed in: sessions with up to 50 events\n",
        "plt.figure(figsize=(10, 5))\n",
        "plt.hist(events_per_session['event_count'], bins=50, color='steelblue')\n",
        "plt.xlim(0, 50)\n",
        "plt.title(\"Distribution of Events per Session (0–50 Events)\")\n",
        "plt.xlabel(\"Number of Events\")\n",
        "plt.ylabel(\"Number of Sessions\")\n",
        "plt.tight_layout()\n",
        "plt.show()\n",
        "\n",
        "save_plot('events_per_session_distribution_zoomed.png')\n"
      ],
      "metadata": {
        "colab": {
          "base_uri": "https://localhost:8080/",
          "height": 1000
        },
        "id": "ZflWfe0IE96R",
        "outputId": "a2294ec8-0746-4a53-cfd2-7b432465f1e3"
      },
      "execution_count": 30,
      "outputs": [
        {
          "output_type": "display_data",
          "data": {
            "text/plain": [
              "<Figure size 1000x500 with 1 Axes>"
            ],
            "image/png": "[encoded data removed]"
          },
          "metadata": {}
        },
        {
          "output_type": "stream",
          "name": "stdout",
          "text": [
            "Plot saved as /content/results/events_per_session_distribution_full.png\n"
          ]
        },
        {
          "output_type": "display_data",
          "data": {
            "text/plain": [
              "<Figure size 640x480 with 0 Axes>"
            ]
          },
          "metadata": {}
        },
        {
          "output_type": "display_data",
          "data": {
            "text/plain": [
              "<Figure size 1000x500 with 1 Axes>"
            ],
            "image/png": "[encoded data removed]"
          },
          "metadata": {}
        },
        {
          "output_type": "stream",
          "name": "stdout",
          "text": [
            "Plot saved as /content/results/events_per_session_distribution_zoomed.png\n"
          ]
        },
        {
          "output_type": "display_data",
          "data": {
            "text/plain": [
              "<Figure size 640x480 with 0 Axes>"
            ]
          },
          "metadata": {}
        }
      ]
    },
    {
      "cell_type": "markdown",
      "source": [
        "The distribution of events per session highlights a sharp imbalance. The vast majority of sessions are short, consisting of only a few events. A small subset of sessions, however, demonstrate highly active engagement, with some containing over 400 user actions within a single session.\n",
        "\n",
        "This distribution reflects common user behaviour in ecommerce, where most browsing sessions are brief and exploratory, while a few involve deeper engagement, potentially reflecting purchase consideration or automated activity. This insight will guide the next step, where we will determine whether to filter extremely short sessions prior to embedding."
      ],
      "metadata": {
        "id": "c9q1na7AGAOt"
      }
    },
    {
      "cell_type": "markdown",
      "source": [
        "## Exporting EDA Outputs"
      ],
      "metadata": {
        "id": "ehXJKMn7WKC5"
      }
    },
    {
      "cell_type": "markdown",
      "source": [
        "### Export All Saved Plots"
      ],
      "metadata": {
        "id": "ggZMkdBwWNhm"
      }
    },
    {
      "cell_type": "code",
      "source": [
        "from zipfile import ZipFile\n",
        "\n",
        "# Zipping all saved results into one file\n",
        "results_zip_path = '/content/results/retail_rocket_eda_outputs.zip'\n",
        "\n",
        "with ZipFile(results_zip_path, 'w') as zipf:\n",
        "    for root, _, files in os.walk(results_folder_path):\n",
        "        for file in files:\n",
        "            full_path = os.path.join(root, file)\n",
        "            zipf.write(full_path, os.path.relpath(full_path, results_folder_path))\n",
        "\n",
        "print(f\"All results zipped as {results_zip_path}\")\n",
        "\n",
        "#Downloading it\n",
        "from google.colab import files\n",
        "files.download(results_zip_path)"
      ],
      "metadata": {
        "id": "A1E3AtMbWxh8"
      },
      "execution_count": null,
      "outputs": []
    },
    {
      "cell_type": "markdown",
      "source": [
        "## Preparing Session Sequences"
      ],
      "metadata": {
        "id": "fEKuNZJfJVCQ"
      }
    },
    {
      "cell_type": "markdown",
      "source": [
        "### Creating Session Sequences"
      ],
      "metadata": {
        "id": "7YE4jFBCK8sW"
      }
    },
    {
      "cell_type": "code",
      "source": [
        "# Preparing session-level sequences including event type and itemid as token\n",
        "def build_session_sequence(dataframe):\n",
        "    return dataframe.apply(lambda row: f\"{row['event']}_{row['itemid']}\", axis=1).tolist()\n",
        "\n",
        "# Grouping events by session to create token sequences\n",
        "session_sequences = df_events_sorted.groupby('session_global_id').apply(build_session_sequence).reset_index()\n",
        "session_sequences.columns = ['session_global_id', 'session_sequence']\n",
        "\n",
        "# Checking the first few session sequences\n",
        "print(\"Sample session-level interaction sequences:\")\n",
        "for i in range(5):\n",
        "    print(session_sequences.iloc[i])\n"
      ],
      "metadata": {
        "colab": {
          "base_uri": "https://localhost:8080/"
        },
        "id": "IWCzVbhpGByl",
        "outputId": "a00554b6-315a-45b2-fdae-97eeb8a71ce7"
      },
      "execution_count": 31,
      "outputs": [
        {
          "output_type": "stream",
          "name": "stdout",
          "text": [
            "Sample session-level interaction sequences:\n",
            "session_global_id                                       0_1\n",
            "session_sequence     [view_285930, view_357564, view_67045]\n",
            "Name: 0, dtype: object\n",
            "session_global_id       1000000_1\n",
            "session_sequence     [view_92951]\n",
            "Name: 1, dtype: object\n",
            "session_global_id        1000001_1\n",
            "session_sequence     [view_141264]\n",
            "Name: 2, dtype: object\n",
            "session_global_id                                  1000001_2\n",
            "session_sequence     [view_202293, view_424515, view_230432]\n",
            "Name: 3, dtype: object\n",
            "session_global_id       1000001_3\n",
            "session_sequence     [view_67707]\n",
            "Name: 4, dtype: object\n"
          ]
        },
        {
          "output_type": "stream",
          "name": "stderr",
          "text": [
            "/tmp/ipython-input-31-1657879517.py:6: DeprecationWarning: DataFrameGroupBy.apply operated on the grouping columns. This behavior is deprecated, and in a future version of pandas the grouping columns will be excluded from the operation. Either pass `include_groups=False` to exclude the groupings or explicitly select the grouping columns after groupby to silence this warning.\n",
            "  session_sequences = df_events_sorted.groupby('session_global_id').apply(build_session_sequence).reset_index()\n"
          ]
        }
      ]
    },
    {
      "cell_type": "markdown",
      "source": [
        "To prepare the dataset for behavioural embedding, user interaction events were aggregated into session-level sequences. Each session sequence captures the series of actions (view, addtocart, transaction) performed on various items during a continuous session.\n",
        "\n",
        "The resulting sequences provide a structured representation of user behaviour, preserving both the type of interaction and the specific item involved. This structure will form the input to the neural embedding models, enabling them to learn latent behavioural patterns from the raw event data."
      ],
      "metadata": {
        "id": "KBrbEHwzUxqk"
      }
    },
    {
      "cell_type": "code",
      "source": [],
      "metadata": {
        "id": "mPjX_C2CUyY2"
      },
      "execution_count": null,
      "outputs": []
    }
  ]
}